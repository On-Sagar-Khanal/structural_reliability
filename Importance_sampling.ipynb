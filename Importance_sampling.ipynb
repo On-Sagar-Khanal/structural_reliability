{
 "cells": [
  {
   "cell_type": "code",
   "execution_count": 1,
   "metadata": {},
   "outputs": [],
   "source": [
    "import numpy as np\n",
    "from scipy.optimize import minimize\n",
    "from scipy.stats import norm\n",
    "import math"
   ]
  },
  {
   "cell_type": "markdown",
   "metadata": {},
   "source": [
    "Defining values"
   ]
  },
  {
   "cell_type": "code",
   "execution_count": 2,
   "metadata": {},
   "outputs": [
    {
     "name": "stdout",
     "output_type": "stream",
     "text": [
      "[[2. 0. 0.]\n",
      " [0. 2. 0.]\n",
      " [0. 0. 6.]]\n"
     ]
    }
   ],
   "source": [
    "R=np.array([[1,0,0],       #the correlation matrix\n",
    "            [0,1,0],\n",
    "            [0,0,1]\n",
    "            ])\n",
    "L=np.linalg.cholesky(R)\n",
    "SD=np.array([[2,0,0],       #standard deviations\n",
    "            [0,2,0],\n",
    "            [0,0,6]\n",
    "            ])\n",
    "M=np.array([[10],       #mean\n",
    "            [3],\n",
    "            [25]\n",
    "            ])\n",
    "##THE COEFFICIENT MATRIX\n",
    "print(SD@L)"
   ]
  },
  {
   "cell_type": "markdown",
   "metadata": {},
   "source": [
    "AFORM Analysis for first finding the design point"
   ]
  },
  {
   "cell_type": "code",
   "execution_count": 3,
   "metadata": {},
   "outputs": [
    {
     "name": "stdout",
     "output_type": "stream",
     "text": [
      " message: Optimization terminated successfully\n",
      " success: True\n",
      "  status: 0\n",
      "     fun: 0.2325269730966812\n",
      "       x: [-5.610e-02 -2.159e-01  6.553e-02]\n",
      "     nit: 9\n",
      "     jac: [-2.396e-01 -9.295e-01  2.804e-01]\n",
      "    nfev: 41\n",
      "    njev: 9\n",
      "\n",
      "The design MPP Point as per AFORM is: \n",
      " [ 9.88780454  2.56813014 25.39316919]\n"
     ]
    }
   ],
   "source": [
    "def objective(A):\n",
    "    return np.sqrt(np.dot(A,np.transpose(A)))\n",
    "\n",
    "def constraint(A):\n",
    "    return (A[0]*2+10)*(A[1]*2+3)-(A[2]*6+25)\n",
    "    \n",
    "Init_guess=np.zeros(3)\n",
    "Init_guess=np.array([-1,2,-3])\n",
    "#######################\n",
    "\n",
    "b=(-100,100)\n",
    "bnds=(b,b,b)\n",
    "con={'type':\"eq\",\"fun\":constraint}\n",
    "sol=minimize(objective,Init_guess,method=\"SLSQP\",bounds=bnds,constraints=con)\n",
    "print(sol)\n",
    "MPP = ( SD @ L @ sol['x'].reshape(3,1) + M ).flatten()\n",
    "print(\"\\nThe design MPP Point as per AFORM is: \\n\", MPP)  #THE MPP POINT"
   ]
  },
  {
   "cell_type": "markdown",
   "metadata": {},
   "source": [
    "Importance sampling on monte carlo simulation for failure probability estimation"
   ]
  },
  {
   "cell_type": "code",
   "execution_count": 4,
   "metadata": {},
   "outputs": [
    {
     "name": "stdout",
     "output_type": "stream",
     "text": [
      " The failure probability (pf) is  0.3274700260348623\n",
      "\n",
      " The COV is  45.31792803436899\n"
     ]
    }
   ],
   "source": [
    "# GENERATING VALUES\n",
    "\n",
    "n_sample = 10 # defining number of samples\n",
    "sd=SD.flatten()\n",
    "sd=sd[sd!=0]\n",
    "m=M.flatten()\n",
    "\n",
    "u1, u2, u3 = np.random.rand(n_sample), np.random.rand(n_sample), np.random.rand(n_sample)\n",
    "x1, x2, x3 = norm.ppf(u1, loc=MPP[0], scale=sd[0]), norm.ppf(u2, loc=MPP[1], scale=sd[1]), norm.ppf(u3, loc=MPP[2], scale=sd[2])\n",
    "\n",
    "G = x1 * x2 - x3                   # Limit state function of interest\n",
    "I = [1 if y>=0 else 0 for y in G]\n",
    "\n",
    "f1, f2, f3 = norm.pdf(x1, loc=m[0], scale=sd[0]), norm.pdf(x2, loc=m[1], scale=sd[1]), norm.pdf(x3, loc=m[2], scale=sd[2]) # PDFs\n",
    "f= f1 * f2 * f3                    # because f1, f2 and f3 are statistically independent\n",
    "s1, s2, s3 = norm.pdf(x1, loc=MPP[0], scale=sd[0]), norm.pdf(x2, loc=MPP[1], scale=sd[1]), norm.pdf(x3, loc=MPP[2], scale=sd[2])\n",
    "s = s1 * s2 * s3                   # because s1, s2 and s3 are statistically independent\n",
    "w = f/s                            # weight calculation for importance based sampling\n",
    "final = w*I \n",
    "mean = np.mean(final)\n",
    "COV = np.sqrt( (1- mean)/(n_sample*mean) )\n",
    "print(\" The failure probability (pf) is \",mean)\n",
    "print(\"\\n The COV is \",COV*100)\n",
    "\n"
   ]
  }
 ],
 "metadata": {
  "kernelspec": {
   "display_name": "Python 3",
   "language": "python",
   "name": "python3"
  },
  "language_info": {
   "codemirror_mode": {
    "name": "ipython",
    "version": 3
   },
   "file_extension": ".py",
   "mimetype": "text/x-python",
   "name": "python",
   "nbconvert_exporter": "python",
   "pygments_lexer": "ipython3",
   "version": "3.11.1"
  }
 },
 "nbformat": 4,
 "nbformat_minor": 2
}
